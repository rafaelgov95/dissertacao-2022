{
 "cells": [
  {
   "cell_type": "code",
   "source": [
    "\n",
    "# from sklearn.model_selection import train_test_split\n",
    "# from sklearn.metrics import classification_report\n",
    "# from imblearn.under_sampling import RandomUnderSampler\n",
    "import numpy as np\n",
    "import pandas as pd\n",
    "# from matplotlib import pyplot as plt\n",
    "from libs import archanjo as arch"
   ],
   "metadata": {
    "collapsed": false,
    "ExecuteTime": {
     "end_time": "2024-10-02T19:12:01.914278Z",
     "start_time": "2024-10-02T19:12:01.899821Z"
    }
   },
   "outputs": [],
   "execution_count": 5
  },
  {
   "cell_type": "code",
   "source": [
    "categorias = [0,1]\n",
    "categorias_string = [\"Hipertensos_Repouso_65_75_Supino\",\"Saudaveis_Repouso_20_30_Supino\"]\n",
    "\n",
    "path_base = \"./data/\"\n",
    "\n",
    "data_frame_cat = []\n",
    "data_frame_numpy= []\n",
    "for x in categorias:\n",
    "    print(path_base + categorias_string[x])\n",
    "    for class_data_dict in arch.coleta_dados(path_base + categorias_string[x]):\n",
    "        name_user = class_data_dict[0]\n",
    "        data = class_data_dict[1]\n",
    "        sem_outliers = arch.removeoutlier(data.copy(), debug=False)\n",
    "        estacionario = arch.select_estavel(sem_outliers)\n",
    "        for estac_ in estacionario:\n",
    "            data_=[]\n",
    "            data_frame_cat.append(x)\n",
    "            data_frame_numpy.append(estac_[1])"
   ],
   "metadata": {
    "collapsed": false,
    "ExecuteTime": {
     "end_time": "2024-10-02T19:09:37.509506Z",
     "start_time": "2024-10-02T19:09:36.962970Z"
    }
   },
   "outputs": [
    {
     "name": "stdout",
     "output_type": "stream",
     "text": [
      "./data/Hipertensos_Repouso_65_75_Supino\n",
      "./data/Saudaveis_Repouso_20_30_Supino\n"
     ]
    }
   ],
   "execution_count": 2
  },
  {
   "metadata": {
    "ExecuteTime": {
     "end_time": "2024-10-02T19:12:09.404923Z",
     "start_time": "2024-10-02T19:12:09.390517Z"
    }
   },
   "cell_type": "code",
   "source": [
    "data_frame_cat = pd.DataFrame(data_frame_cat)\n",
    "data_frame_numpy= pd.DataFrame(data_frame_numpy)"
   ],
   "outputs": [],
   "execution_count": 6
  },
  {
   "metadata": {},
   "cell_type": "code",
   "outputs": [],
   "execution_count": null,
   "source": "data_frame_cat.to_excel(\"./categorias.xlsx\")"
  },
  {
   "metadata": {
    "ExecuteTime": {
     "end_time": "2024-10-02T19:14:26.722567Z",
     "start_time": "2024-10-02T19:14:25.333685Z"
    }
   },
   "cell_type": "code",
   "source": "data_frame_numpy.to_excel(\"./resultados.xlsx\")",
   "outputs": [],
   "execution_count": 11
  }
 ],
 "metadata": {
  "accelerator": "GPU",
  "colab": {
   "collapsed_sections": [],
   "name": "cnn.ipynb",
   "toc_visible": true
  },
  "kernelspec": {
   "display_name": "Python 3 (ipykernel)",
   "name": "python3",
   "language": "python"
  },
  "language_info": {
   "codemirror_mode": {
    "name": "ipython",
    "version": 3
   },
   "file_extension": ".py",
   "mimetype": "text/x-python",
   "name": "python",
   "nbconvert_exporter": "python",
   "pygments_lexer": "ipython3",
   "version": "3.7.5"
  }
 },
 "nbformat": 4,
 "nbformat_minor": 0
}

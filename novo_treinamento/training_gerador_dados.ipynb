{
 "cells": [
  {
   "metadata": {
    "ExecuteTime": {
     "end_time": "2024-12-10T19:03:15.761177Z",
     "start_time": "2024-12-10T19:03:15.756409Z"
    }
   },
   "cell_type": "code",
   "source": [
    "from libs import archanjo as arch\n",
    "import pandas as pd\n",
    "import os"
   ],
   "outputs": [],
   "execution_count": 73
  },
  {
   "metadata": {
    "ExecuteTime": {
     "end_time": "2024-12-10T19:03:15.815036Z",
     "start_time": "2024-12-10T19:03:15.809327Z"
    }
   },
   "cell_type": "code",
   "source": [
    "# def substituir_ponto_e_virgula_remover_linha_vazia(path_final):\n",
    "#     dirFiles = os.listdir(path_final)\n",
    "#     for file in dirFiles:\n",
    "#         file_path = os.path.join(path_final, file)\n",
    "#         if os.path.isfile(file_path):  # Verifica se é um arquivo (não uma pasta)\n",
    "#             with open(file_path, 'r+', encoding='utf-8') as f:\n",
    "#                 content = f.readlines()  # Lê todas as linhas como uma lista\n",
    "#                 # Substitui ';' por '!' em todas as linhas\n",
    "#                 content = [line.replace(';', '\\n') for line in content]\n",
    "#                 # Remove última linha vazia, se existir\n",
    "#                 if content and content[-1].strip() == '':\n",
    "#                     content.pop()\n",
    "#                 # Retorna o ponteiro para o início do arquivo\n",
    "#                 f.seek(0)\n",
    "#                 # Escreve o conteúdo ajustado de volta ao arquivo\n",
    "#                 f.writelines(content)\n",
    "#                 # Trunca o restante do arquivo caso tenha ficado maior\n",
    "#                 f.truncate()\n",
    "#\n",
    "# # Exemplo de uso:\n",
    "# substituir_ponto_e_virgula_remover_linha_vazia('/home/rafael/Downloads/dadosvfchas')\n"
   ],
   "outputs": [],
   "execution_count": 74
  },
  {
   "cell_type": "code",
   "source": [
    "categorias = [0,1]\n",
    "categorias_string = [\"Hipertensos_Repouso_65_75_Supino\",\"Saudaveis_Repouso_20_30_Supino\"]\n",
    "\n",
    "path_base = \"../data/\"\n",
    "\n",
    "data_frame_cat = []\n",
    "data_frame_numpy= []\n",
    "for x in categorias:\n",
    "    print(path_base + categorias_string[x])\n",
    "    for class_data_dict in arch.coleta_dados(path_base + categorias_string[x]):\n",
    "        name_user = class_data_dict[0]\n",
    "        data = class_data_dict[1]\n",
    "        sem_outliers = arch.removeoutlier(data.copy(), debug=False)\n",
    "        estacionario = arch.select_estavel(sem_outliers)\n",
    "        for estac_ in estacionario:\n",
    "            data_=[]\n",
    "            data_frame_cat.append(x)\n",
    "            data_frame_numpy.append(estac_[1])"
   ],
   "metadata": {
    "collapsed": false,
    "ExecuteTime": {
     "end_time": "2024-12-10T19:03:16.133657Z",
     "start_time": "2024-12-10T19:03:15.864356Z"
    }
   },
   "outputs": [
    {
     "name": "stdout",
     "output_type": "stream",
     "text": [
      "../data/Hipertensos_Repouso_65_75_Supino\n",
      "../data/Hipertensos_Repouso_65_75_Supino/PAULOCESAR_SEDESTACAO.txt\n",
      "../data/Hipertensos_Repouso_65_75_Supino/Lindomar H42 S16 Su.txt\n",
      "../data/Hipertensos_Repouso_65_75_Supino/Jovair Silva H7 S22 Su.txt\n",
      "../data/Hipertensos_Repouso_65_75_Supino/Otavio Jose H6 S3 Su.txt\n",
      "../data/Hipertensos_Repouso_65_75_Supino/Zalene Cosme Rodrigues - Exame 68.txt\n",
      "../data/Hipertensos_Repouso_65_75_Supino/Ailton Controle Su.txt\n",
      "../data/Hipertensos_Repouso_65_75_Supino/Alonso Estrela H22 S5 Su.txt\n",
      "../data/Hipertensos_Repouso_65_75_Supino/Mauro H44 S25 Su.txt\n",
      "../data/Hipertensos_Repouso_65_75_Supino/Francinete Cunha da Silva  - Exame 165.txt\n",
      "../data/Hipertensos_Repouso_65_75_Supino/Luiz Controle Su.txt\n",
      "../data/Hipertensos_Repouso_65_75_Supino/Roseli Fontele de Albuquerque - Exame 112.txt\n",
      "../data/Hipertensos_Repouso_65_75_Supino/JOSEROBERTO_SUPINO.txt\n",
      "../data/Hipertensos_Repouso_65_75_Supino/Simone Margarelli Pereira Pinho - Exame 108.txt\n",
      "../data/Hipertensos_Repouso_65_75_Supino/Adenisio S37 Su.txt\n",
      "../data/Hipertensos_Repouso_65_75_Supino/Jair Lobo C31 S33 Su.txt\n",
      "../data/Hipertensos_Repouso_65_75_Supino/SURAMA_SUPINO.txt\n",
      "../data/Hipertensos_Repouso_65_75_Supino/ZALENE_ORTOSTASE.txt\n",
      "../data/Hipertensos_Repouso_65_75_Supino/SIMONE_SUPINO.txt\n",
      "../data/Hipertensos_Repouso_65_75_Supino/Caroline Soares de Melo  - Exame 86.txt\n",
      "../data/Hipertensos_Repouso_65_75_Supino/Raimundo Silva Costa - Exame 64.txt\n",
      "../data/Hipertensos_Repouso_65_75_Supino/PAULOCESAR_ORTOSTASE.txt\n",
      "../data/Hipertensos_Repouso_65_75_Supino/Helenin Morato da Silva - Exame 111.txt\n",
      "../data/Hipertensos_Repouso_65_75_Supino/Ediberto H17 S21.txt\n",
      "../data/Hipertensos_Repouso_65_75_Supino/SIMONE_ORTOSTASE.txt\n",
      "../data/Hipertensos_Repouso_65_75_Supino/Pedro Leao H23 S13 Su.txt\n",
      "../data/Hipertensos_Repouso_65_75_Supino/Leopoldina Silva de Oliveira - Exame 156.txt\n",
      "../data/Hipertensos_Repouso_65_75_Supino/Antonia Maria de Sousa de Jesus - Exame 78.txt\n",
      "../data/Hipertensos_Repouso_65_75_Supino/Edvaldo Silva H3 S10 Su.txt\n",
      "../data/Hipertensos_Repouso_65_75_Supino/ZALENE_SUPINO.txt\n",
      "../data/Hipertensos_Repouso_65_75_Supino/ZALENE_SEDESTADO.txt\n",
      "../data/Hipertensos_Repouso_65_75_Supino/Giovani H27 S15 Su.txt\n",
      "../data/Hipertensos_Repouso_65_75_Supino/SURAMA_ORTOSTASE.txt\n",
      "../data/Hipertensos_Repouso_65_75_Supino/Geraldo Cosme H25 S14.txt\n",
      "../data/Hipertensos_Repouso_65_75_Supino/Gláucia Rodrigues dos Santos  - Exame 71.txt\n",
      "../data/Hipertensos_Repouso_65_75_Supino/JOSEROBERTO_ORTOSTASE.txt\n",
      "../data/Hipertensos_Repouso_65_75_Supino/Francisco Heitor H2 S2.txt\n",
      "../data/Hipertensos_Repouso_65_75_Supino/SURAMA_SEDESTACAO.txt\n",
      "../data/Hipertensos_Repouso_65_75_Supino/Luiz Carlos da Silva - Exame 147.txt\n",
      "../data/Hipertensos_Repouso_65_75_Supino/JOSEROBERTO_TC6MIN.txt\n",
      "../data/Hipertensos_Repouso_65_75_Supino/Carlos Priomolan C41 S30 Su.txt\n",
      "../data/Saudaveis_Repouso_20_30_Supino\n",
      "../data/Saudaveis_Repouso_20_30_Supino/SR8.txt\n",
      "../data/Saudaveis_Repouso_20_30_Supino/SR5.txt\n",
      "../data/Saudaveis_Repouso_20_30_Supino/SR21-2.txt\n",
      "../data/Saudaveis_Repouso_20_30_Supino/SR6.txt\n",
      "../data/Saudaveis_Repouso_20_30_Supino/SR2-1.txt\n",
      "../data/Saudaveis_Repouso_20_30_Supino/SR14-2.txt\n",
      "../data/Saudaveis_Repouso_20_30_Supino/SR9-1.txt\n",
      "../data/Saudaveis_Repouso_20_30_Supino/SR3.txt\n",
      "../data/Saudaveis_Repouso_20_30_Supino/SR19-2.txt\n",
      "../data/Saudaveis_Repouso_20_30_Supino/SR22-1.txt\n",
      "../data/Saudaveis_Repouso_20_30_Supino/SR19-1.txt\n",
      "../data/Saudaveis_Repouso_20_30_Supino/SR14-1.txt\n",
      "../data/Saudaveis_Repouso_20_30_Supino/SR12.txt\n",
      "../data/Saudaveis_Repouso_20_30_Supino/SR3-2.txt\n",
      "../data/Saudaveis_Repouso_20_30_Supino/SR9.txt\n",
      "../data/Saudaveis_Repouso_20_30_Supino/SR6-2.txt\n",
      "../data/Saudaveis_Repouso_20_30_Supino/SR10-1.txt\n",
      "../data/Saudaveis_Repouso_20_30_Supino/SR12-2.txt\n",
      "../data/Saudaveis_Repouso_20_30_Supino/SR5-1.txt\n",
      "../data/Saudaveis_Repouso_20_30_Supino/SR6-1.txt\n",
      "../data/Saudaveis_Repouso_20_30_Supino/SR4.txt\n",
      "../data/Saudaveis_Repouso_20_30_Supino/SR5-2.txt\n",
      "../data/Saudaveis_Repouso_20_30_Supino/SR7-1.txt\n",
      "../data/Saudaveis_Repouso_20_30_Supino/SR23-1.txt\n",
      "../data/Saudaveis_Repouso_20_30_Supino/SR16-2.txt\n",
      "../data/Saudaveis_Repouso_20_30_Supino/SR1.txt\n",
      "../data/Saudaveis_Repouso_20_30_Supino/SR28-1.txt\n",
      "../data/Saudaveis_Repouso_20_30_Supino/SR13-1.txt\n",
      "../data/Saudaveis_Repouso_20_30_Supino/SR25-1.txt\n",
      "../data/Saudaveis_Repouso_20_30_Supino/SR8-1.txt\n",
      "../data/Saudaveis_Repouso_20_30_Supino/SR20-2.txt\n",
      "../data/Saudaveis_Repouso_20_30_Supino/SR15-2.txt\n",
      "../data/Saudaveis_Repouso_20_30_Supino/SR35-1.txt\n",
      "../data/Saudaveis_Repouso_20_30_Supino/SR31-1.txt\n",
      "../data/Saudaveis_Repouso_20_30_Supino/SR15-1.txt\n",
      "../data/Saudaveis_Repouso_20_30_Supino/SR30-1.txt\n",
      "../data/Saudaveis_Repouso_20_30_Supino/SR7.txt\n",
      "../data/Saudaveis_Repouso_20_30_Supino/SR8-2.txt\n",
      "../data/Saudaveis_Repouso_20_30_Supino/SR33-1.txt\n",
      "../data/Saudaveis_Repouso_20_30_Supino/SR2.txt\n",
      "../data/Saudaveis_Repouso_20_30_Supino/SR11-2.txt\n",
      "../data/Saudaveis_Repouso_20_30_Supino/SR9-2.txt\n",
      "../data/Saudaveis_Repouso_20_30_Supino/SR10-2.txt\n",
      "../data/Saudaveis_Repouso_20_30_Supino/SR24-1.txt\n",
      "../data/Saudaveis_Repouso_20_30_Supino/SR34-1.txt\n",
      "../data/Saudaveis_Repouso_20_30_Supino/SR20-1.txt\n",
      "../data/Saudaveis_Repouso_20_30_Supino/SR10.txt\n",
      "../data/Saudaveis_Repouso_20_30_Supino/SR4-2.txt\n",
      "../data/Saudaveis_Repouso_20_30_Supino/SR13-2.txt\n",
      "../data/Saudaveis_Repouso_20_30_Supino/SR26-1.txt\n",
      "../data/Saudaveis_Repouso_20_30_Supino/SR17-1.txt\n",
      "../data/Saudaveis_Repouso_20_30_Supino/SR7-2.txt\n",
      "../data/Saudaveis_Repouso_20_30_Supino/SR1-1.txt\n",
      "../data/Saudaveis_Repouso_20_30_Supino/SR11.txt\n",
      "../data/Saudaveis_Repouso_20_30_Supino/SR3-1.txt\n",
      "../data/Saudaveis_Repouso_20_30_Supino/SR16-1.txt\n",
      "../data/Saudaveis_Repouso_20_30_Supino/SR18-1.txt\n",
      "../data/Saudaveis_Repouso_20_30_Supino/SR27-1.txt\n",
      "../data/Saudaveis_Repouso_20_30_Supino/SR32-1.txt\n",
      "../data/Saudaveis_Repouso_20_30_Supino/SR18-2.txt\n",
      "../data/Saudaveis_Repouso_20_30_Supino/SR2-2.txt\n",
      "../data/Saudaveis_Repouso_20_30_Supino/SR4-1.txt\n",
      "../data/Saudaveis_Repouso_20_30_Supino/SR17-2.txt\n",
      "../data/Saudaveis_Repouso_20_30_Supino/SR21-1.txt\n",
      "../data/Saudaveis_Repouso_20_30_Supino/SR29-1.txt\n"
     ]
    }
   ],
   "execution_count": 75
  },
  {
   "metadata": {
    "ExecuteTime": {
     "end_time": "2024-12-10T19:03:16.212852Z",
     "start_time": "2024-12-10T19:03:16.162511Z"
    }
   },
   "cell_type": "code",
   "source": [
    "data_frame_cat = pd.DataFrame(data_frame_cat)\n",
    "data_frame_numpy= pd.DataFrame(data_frame_numpy)"
   ],
   "outputs": [],
   "execution_count": 76
  },
  {
   "metadata": {
    "ExecuteTime": {
     "end_time": "2024-12-10T19:03:16.264209Z",
     "start_time": "2024-12-10T19:03:16.232931Z"
    }
   },
   "cell_type": "code",
   "source": "data_frame_cat.to_excel(\"./categorias_v3.xlsx\")",
   "outputs": [],
   "execution_count": 77
  },
  {
   "metadata": {
    "ExecuteTime": {
     "end_time": "2024-12-10T19:03:17.385116Z",
     "start_time": "2024-12-10T19:03:16.300092Z"
    }
   },
   "cell_type": "code",
   "source": "data_frame_numpy.to_excel(\"./resultados_v3.xlsx\")\n",
   "outputs": [],
   "execution_count": 78
  },
  {
   "metadata": {
    "ExecuteTime": {
     "end_time": "2024-12-10T19:03:17.393734Z",
     "start_time": "2024-12-10T19:03:17.390577Z"
    }
   },
   "cell_type": "code",
   "source": [
    "# import matplotlib.pyplot as plt\n",
    "# import pandas as pd\n",
    "# # Convertendo listas para DataFrames\n",
    "# # data_frame_cat = pd.DataFrame(data_frame_cat, columns=[\"Categoria\"])\n",
    "# # data_frame_numpy = pd.DataFrame(data_frame_numpy)\n",
    "#\n",
    "# # Iterando pelas categorias\n",
    "# for i in range(0,len(data_frame_numpy)):\n",
    "#     plt.figure(figsize=(10, 6))\n",
    "#     plt.title(f\"Exemplo de Sinais Estáveis - Categoria: {data_frame_cat[i]}\")\n",
    "#     plt.xlabel(\"Índice\")\n",
    "#     plt.ylabel(\"RR Intervalo (ms)\")\n",
    "#     plt.plot(data_frame_numpy[i])\n",
    "#     plt.show()"
   ],
   "outputs": [],
   "execution_count": 79
  },
  {
   "metadata": {
    "ExecuteTime": {
     "end_time": "2024-12-10T19:03:17.462884Z",
     "start_time": "2024-12-10T19:03:17.448601Z"
    }
   },
   "cell_type": "code",
   "source": "data_frame_numpy[0]",
   "outputs": [
    {
     "data": {
      "text/plain": [
       "0      711\n",
       "1      729\n",
       "2      883\n",
       "3      865\n",
       "4      650\n",
       "      ... \n",
       "196    740\n",
       "197    721\n",
       "198    765\n",
       "199    857\n",
       "200    800\n",
       "Name: 0, Length: 201, dtype: int64"
      ]
     },
     "execution_count": 80,
     "metadata": {},
     "output_type": "execute_result"
    }
   ],
   "execution_count": 80
  }
 ],
 "metadata": {
  "accelerator": "GPU",
  "colab": {
   "collapsed_sections": [],
   "name": "cnn.ipynb",
   "toc_visible": true
  },
  "kernelspec": {
   "display_name": "Python 3 (ipykernel)",
   "name": "python3",
   "language": "python"
  },
  "language_info": {
   "codemirror_mode": {
    "name": "ipython",
    "version": 3
   },
   "file_extension": ".py",
   "mimetype": "text/x-python",
   "name": "python",
   "nbconvert_exporter": "python",
   "pygments_lexer": "ipython3",
   "version": "3.7.5"
  }
 },
 "nbformat": 4,
 "nbformat_minor": 0
}

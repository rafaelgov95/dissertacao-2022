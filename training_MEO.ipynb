{
 "cells": [
  {
   "cell_type": "code",
   "execution_count": 1,
   "outputs": [],
   "source": [
    "import tensorflow as tf\n",
    "from tensorflow.keras import datasets, layers, models,constraints\n",
    "\n",
    "import matplotlib.pyplot as plt\n",
    "import os\n",
    "import cv2\n",
    "import numpy as np\n",
    "from sklearn.model_selection import train_test_split\n",
    "from sklearn.metrics import classification_report\n",
    "from imblearn.under_sampling import RandomUnderSampler\n",
    "import numpy as np\n",
    "from matplotlib import pyplot as plt\n",
    "import cv2\n",
    "from libs import archanjo as arch"
   ],
   "metadata": {
    "collapsed": false
   }
  },
  {
   "cell_type": "code",
   "execution_count": 2,
   "outputs": [],
   "source": [
    "categorias = [0,1]\n",
    "categorias_string = [\"Hipertensos_Repouso_65_75_Supino\",\"Saudaveis_Repouso_20_30_Supino\"]\n",
    "\n",
    "path_base = \"/home/rafael/Documentos/FACOM/Mestrado/Materias/Defesa/Pesquisa/DSP/DataSet_VFC/New_Set/data/\"\n",
    "\n",
    "data_frame_cat = []\n",
    "data_frame_numpy= []\n",
    "\n",
    "for x in categorias:\n",
    "    for class_data_dict in arch.coleta_dados(path_base + categorias_string[x]):\n",
    "        name_user = class_data_dict[0]\n",
    "        data = class_data_dict[1]\n",
    "        sem_outliers = arch.removeoutlier(data.copy(), debug=False)\n",
    "        estacionario = arch.select_estavel(sem_outliers)\n",
    "\n",
    "        for data_ in estacionario:\n",
    "            data_frame_cat.append(x)\n",
    "            array_normalizado = arch.normalize(data_[1],0,255).astype(np.uint8)\n",
    "            data_frame_numpy.append(array_normalizado)\n",
    "\n",
    "data_frame_cat = np.array(data_frame_cat,dtype=np.int)\n",
    "data_frame_numpy= np.array(data_frame_numpy,dtype=np.int)\n"
   ],
   "metadata": {
    "collapsed": false
   }
  },
  {
   "cell_type": "code",
   "execution_count": 3,
   "outputs": [],
   "source": [
    "\n",
    "rus = RandomUnderSampler(random_state=130,sampling_strategy = \"majority\"\n",
    "\n",
    ")\n",
    "train_images_balance_s,train_labels_balance_s, = rus.fit_resample(data_frame_numpy,data_frame_cat)\n"
   ],
   "metadata": {
    "collapsed": false
   }
  },
  {
   "cell_type": "code",
   "execution_count": 4,
   "outputs": [
    {
     "name": "stdout",
     "output_type": "stream",
     "text": [
      "[0 1 0 0 1 1 1 0 1 1 0 0 0 0 1 0 1 1 1 0 1 0 0 0 1 1 0 0 1 0 1 1 1 1 1 0 1\n",
      " 1 1 0 0 1 0 0 1 0]\n",
      "[1 0 1 0 0 0 1 0 0 0 1 1]\n",
      "(46,)\n",
      "(12,)\n"
     ]
    }
   ],
   "source": [
    "\n",
    "\n",
    "train_images_balance, teste_images_predic, train_labels_balance, test_labels_predic = train_test_split(train_images_balance_s, train_labels_balance_s, shuffle=True, random_state=10, train_size=0.8)\n",
    "\n",
    "\n",
    "print(train_labels_balance)\n",
    "print(test_labels_predic)\n",
    "\n",
    "print(train_labels_balance.shape)\n",
    "print(test_labels_predic.shape)"
   ],
   "metadata": {
    "collapsed": false
   }
  },
  {
   "cell_type": "code",
   "execution_count": null,
   "outputs": [
    {
     "name": "stdout",
     "output_type": "stream",
     "text": [
      "0\n",
      "1\n",
      "2\n",
      "3\n",
      "4\n",
      "5\n",
      "6\n",
      "7\n",
      "8\n",
      "9\n",
      "10\n",
      "11\n",
      "12\n",
      "13\n",
      "14\n",
      "15\n",
      "16\n",
      "17\n",
      "18\n",
      "19\n",
      "20\n",
      "21\n",
      "22\n",
      "23\n",
      "24\n",
      "25\n",
      "26\n",
      "27\n",
      "28\n",
      "29\n",
      "30\n"
     ]
    }
   ],
   "source": [
    "data_x=[]\n",
    "data_y=[]\n",
    "value_list=64\n",
    "\n",
    "for index_data in range(0,len(train_images_balance)):\n",
    "    print(index_data)\n",
    "    plot_list=arch.sintetiza_RR(train_images_balance[index_data],value_list=value_list,engine_value=100)\n",
    "    for d_x in plot_list:\n",
    "        list_ciruclar=arch.get_circular(np.array(d_x))\n",
    "        for ar_cl in list_ciruclar :\n",
    "            data_=[]\n",
    "            for x in range(0,256):\n",
    "                data_.append(ar_cl)\n",
    "            data_x.append(np.array(data_))\n",
    "            data_y.append(train_labels_balance[index_data])\n"
   ],
   "metadata": {
    "collapsed": false,
    "pycharm": {
     "is_executing": true
    }
   }
  },
  {
   "cell_type": "code",
   "execution_count": null,
   "outputs": [],
   "source": [
    "\n",
    "train_labels_balance = np.array(data_y,dtype=np.int)\n",
    "train_images_balance = np.array(data_x,dtype=np.int)\n",
    "\n",
    "print(train_labels_balance)\n",
    "print(train_images_balance.shape)\n",
    "print(train_labels_balance.shape)\n"
   ],
   "metadata": {
    "collapsed": false,
    "pycharm": {
     "is_executing": true
    }
   }
  },
  {
   "cell_type": "code",
   "execution_count": null,
   "outputs": [],
   "source": [
    "dimensao=(-1,256,256,1)\n",
    "train_images_balance_2d=train_images_balance.reshape(dimensao)/255\n",
    "\n",
    "teste_images_predic=teste_images_predic.reshape(dimensao)/255\n",
    "\n",
    "print(teste_images_predic.shape)\n",
    "print(test_labels_predic.shape)\n",
    "print(train_images_balance.shape)\n",
    "print(train_labels_balance.shape)"
   ],
   "metadata": {
    "collapsed": false,
    "pycharm": {
     "is_executing": true
    }
   }
  },
  {
   "cell_type": "code",
   "execution_count": null,
   "outputs": [],
   "source": [
    "train_images, test_images, train_labels, test_labels = train_test_split(train_images_balance,train_labels_balance , shuffle=True, random_state=120, train_size=0.8)\n",
    "\n",
    "print(train_labels)\n",
    "print(test_labels)\n",
    "\n",
    "\n",
    "print(train_images.shape)\n",
    "\n",
    "print(test_images.shape)\n"
   ],
   "metadata": {
    "collapsed": false,
    "pycharm": {
     "is_executing": true
    }
   }
  },
  {
   "cell_type": "code",
   "execution_count": null,
   "metadata": {
    "execution": {
     "iopub.execute_input": "2022-01-26T05:11:51.324375Z",
     "iopub.status.busy": "2022-01-26T05:11:51.323638Z",
     "iopub.status.idle": "2022-01-26T05:11:51.347165Z",
     "shell.execute_reply": "2022-01-26T05:11:51.341496Z"
    },
    "id": "8Yu_m-TZUWGX",
    "pycharm": {
     "is_executing": true
    }
   },
   "outputs": [],
   "source": [
    "model = models.Sequential()\n",
    "\n",
    "\n",
    "model.add(layers.Conv2D(32, (5, 5), activation='relu', input_shape=(16, 16, 1)))\n",
    "model.add(layers.Conv2D(32, (5, 5), activation='relu'))\n",
    "# model.add(layers.MaxPooling2D((2, 2)))\n",
    "\n",
    "model.add(layers.Dropout(0.5))\n",
    "\n",
    "model.add(layers.Conv2D(64, (5, 5), activation='relu'))\n",
    "# model.add(layers.MaxPooling2D((2, 2)))\n",
    "\n",
    "# model.add(layers.Conv2D(64, (3, 3), activation='relu'))\n",
    "# model.add(layers.MaxPooling2D((2, 2)))\n",
    "\n",
    "# model.add(layers.Conv2D(64, (3, 3), activation='relu'))\n",
    "\n",
    "# model.add(layers.Dropout(0.5))\n",
    "\n",
    "# model.add(layers.Conv2D(32, (5, 5), activation='relu'))\n",
    "#\n",
    "# model.add(layers.MaxPooling2D((2, 2)))\n",
    "# model.add(layers.Conv2D(32, (5, 5), activation='relu'))\n",
    "# model.add(layers.Conv2D(32, (5, 5), activation='relu'))\n",
    "\n",
    "# model.add(layers.MaxPooling2D((2, 2)))\n",
    "# model.add(layers.Conv2D(128, (1, 1), activation='relu'))\n",
    "\n",
    "model.add(layers.Flatten())\n",
    "# model.add(layers.Dense(128  , activation='relu'))\n",
    "# model.add(layers.Dense(128, activation='relu'))\n",
    "# model.add(layers.Dense(100, activation='relu'))\n",
    "model.add(layers.Dense(64, activation='relu'))\n",
    "model.add(layers.Dense(2,activation='softmax'))"
   ]
  },
  {
   "cell_type": "code",
   "execution_count": null,
   "outputs": [],
   "source": [
    "model.compile(optimizer='adam',\n",
    "              loss=tf.keras.losses.SparseCategoricalCrossentropy(\n",
    "    from_logits=True),  metrics=['accuracy'])\n",
    "\n",
    "history = model.fit(train_images, train_labels, epochs=5,\n",
    "                    validation_data=(test_images, test_labels))"
   ],
   "metadata": {
    "collapsed": false,
    "pycharm": {
     "is_executing": true
    }
   }
  },
  {
   "cell_type": "code",
   "execution_count": null,
   "outputs": [],
   "source": [
    "y_pred=model.predict(teste_images_predic)\n",
    "y_pred_max = np.argmax(y_pred, axis=1)\n",
    "print(y_pred)\n",
    "print(y_pred_max)\n",
    "print(test_labels_predic)\n",
    "print(classification_report(test_labels_predic, y_pred_max))\n"
   ],
   "metadata": {
    "collapsed": false,
    "pycharm": {
     "is_executing": true
    }
   }
  },
  {
   "cell_type": "markdown",
   "source": [
    "### Evaluate the model"
   ],
   "metadata": {
    "collapsed": false
   }
  },
  {
   "cell_type": "code",
   "execution_count": null,
   "metadata": {
    "execution": {
     "iopub.execute_input": "2022-01-26T05:12:53.592360Z",
     "iopub.status.busy": "2022-01-26T05:12:53.591680Z",
     "iopub.status.idle": "2022-01-26T05:12:54.645588Z",
     "shell.execute_reply": "2022-01-26T05:12:54.645130Z"
    },
    "id": "gtyDF0MKUcM7",
    "pycharm": {
     "is_executing": true
    }
   },
   "outputs": [],
   "source": [
    "plt.plot(history.history['accuracy'], label='accuracy')\n",
    "plt.plot(history.history['val_accuracy'], label = 'val_accuracy')\n",
    "plt.xlabel('Epoch')\n",
    "plt.ylabel('Accuracy')\n",
    "plt.ylim([0.5, 1])\n",
    "plt.legend(loc='lower right')\n"
   ]
  },
  {
   "cell_type": "code",
   "execution_count": null,
   "outputs": [],
   "source": [
    "test_loss, test_acc = model.evaluate(teste_images_predic,  test_labels_predic, verbose=2)\n",
    "print(test_acc)\n"
   ],
   "metadata": {
    "collapsed": false,
    "pycharm": {
     "is_executing": true
    }
   }
  }
 ],
 "metadata": {
  "accelerator": "GPU",
  "colab": {
   "collapsed_sections": [],
   "name": "cnn.ipynb",
   "toc_visible": true
  },
  "kernelspec": {
   "display_name": "Python 3",
   "name": "python3"
  },
  "language_info": {
   "codemirror_mode": {
    "name": "ipython",
    "version": 3
   },
   "file_extension": ".py",
   "mimetype": "text/x-python",
   "name": "python",
   "nbconvert_exporter": "python",
   "pygments_lexer": "ipython3",
   "version": "3.7.5"
  }
 },
 "nbformat": 4,
 "nbformat_minor": 0
}

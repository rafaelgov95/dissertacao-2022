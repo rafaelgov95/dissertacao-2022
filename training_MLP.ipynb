{
 "cells": [
  {
   "cell_type": "code",
   "execution_count": 94,
   "outputs": [],
   "source": [
    "import tensorflow as tf\n",
    "from matplotlib.pyplot import figure\n",
    "from tensorflow.keras import datasets, layers, models,constraints\n",
    "import numpy as np\n",
    "import seaborn as  sns\n",
    "import matplotlib.pyplot as plt\n",
    "from scipy import interpolate\n",
    "import pandas as pd\n",
    "from matplotlib import pyplot as plt\n",
    "from libs import archanjo as arch\n",
    "import cv2\n",
    "import matplotlib.pyplot as plt\n",
    "import os\n",
    "import cv2\n",
    "# import cv\n",
    "import numpy as np\n",
    "from sklearn.model_selection import train_test_split\n",
    "from sklearn.metrics import classification_report\n",
    "from imblearn.under_sampling import RandomUnderSampler"
   ],
   "metadata": {
    "collapsed": false
   }
  },
  {
   "cell_type": "code",
   "execution_count": 95,
   "outputs": [],
   "source": [
    "categorias = [0,1]\n",
    "categorias_string = [\"Hipertensos_Repouso_65_75_Supino\",\"Saudaveis_Repouso_20_30_Supino\"]\n",
    "\n",
    "path_base = \"/home/rafael/Documentos/FACOM/Mestrado/Materias/Defesa/Pesquisa/DSP/DataSet_VFC/New_Set/data/\"\n",
    "\n",
    "data_frame_cat = []\n",
    "data_frame_numpy= []\n",
    "\n",
    "for x in categorias:\n",
    "    for class_data_dict in arch.coleta_dados(path_base + categorias_string[x]):\n",
    "        name_user = class_data_dict[0]\n",
    "        data = class_data_dict[1]\n",
    "        sem_outliers = arch.removeoutlier(data.copy(), debug=False)\n",
    "        estacionario = arch.select_estavel(sem_outliers)\n",
    "\n",
    "        for data_ in estacionario:\n",
    "            data_frame_cat.append(x)\n",
    "            data_frame_numpy.append(data_[1])\n",
    "\n",
    "data_frame_cat = np.array(data_frame_cat,dtype=np.int)\n",
    "data_frame_numpy= np.array(data_frame_numpy,dtype=np.int)\n"
   ],
   "metadata": {
    "collapsed": false
   }
  },
  {
   "cell_type": "code",
   "execution_count": 96,
   "outputs": [],
   "source": [
    "rus = RandomUnderSampler(random_state=130,sampling_strategy = \"majority\"\n",
    "\n",
    ")\n",
    "train_images_balance_s,train_labels_balance_s, = rus.fit_resample(data_frame_numpy,data_frame_cat)\n"
   ],
   "metadata": {
    "collapsed": false
   }
  },
  {
   "cell_type": "code",
   "execution_count": 97,
   "outputs": [
    {
     "name": "stdout",
     "output_type": "stream",
     "text": [
      "(58, 256)\n",
      "(58,)\n"
     ]
    }
   ],
   "source": [
    "\n",
    "print(train_images_balance_s.shape)\n",
    "print(train_labels_balance_s.shape)\n"
   ],
   "metadata": {
    "collapsed": false
   }
  },
  {
   "cell_type": "code",
   "execution_count": 98,
   "outputs": [
    {
     "data": {
      "text/plain": "<Figure size 720x360 with 2 Axes>",
      "image/png": "[encoded data removed]"
     },
     "metadata": {},
     "output_type": "display_data"
    }
   ],
   "source": [
    "autopct = \"%.2f\"\n",
    "\n",
    "fig, axs = plt.subplots(ncols=2, figsize=(10, 5))\n",
    "axs[0].set_title(\"Original\")\n",
    "pd.Series(name='Pacientes',data=data_frame_cat).value_counts().plot.pie(autopct=autopct, ax=axs[0])\n",
    "\n",
    "pd.Series(name='Pacientes',data=train_labels_balance_s).value_counts().plot.pie( autopct=autopct,ax=axs[1])\n",
    "\n",
    "axs[1].set_title(\"Under-sampling\")\n",
    "fig.tight_layout()\n"
   ],
   "metadata": {
    "collapsed": false
   }
  },
  {
   "cell_type": "code",
   "execution_count": 99,
   "outputs": [
    {
     "name": "stdout",
     "output_type": "stream",
     "text": [
      "[0 1 1 0 0 0 1 1 1 0 1 1 0 0 1 1 0 1 0 0 0 1 1 0 1 0 1 1 0 1 1 0 1 0 0 1 1\n",
      " 0 0 1]\n",
      "[1 1 0 1 0 0 1 1 0 0 1 1 0 0 0 0 1 0]\n",
      "(40,)\n",
      "(18,)\n"
     ]
    }
   ],
   "source": [
    "\n",
    "\n",
    "train_images_balance, teste_images_predic, train_labels_balance, test_labels_predic = train_test_split(train_images_balance_s, train_labels_balance_s, shuffle=True, random_state=123, train_size=0.7   )\n",
    "print(train_labels_balance)\n",
    "print(test_labels_predic)\n",
    "\n",
    "print(train_labels_balance.shape)\n",
    "print(test_labels_predic.shape)"
   ],
   "metadata": {
    "collapsed": false
   }
  },
  {
   "cell_type": "markdown",
   "source": [],
   "metadata": {
    "collapsed": false
   }
  },
  {
   "cell_type": "code",
   "execution_count": 100,
   "outputs": [
    {
     "name": "stdout",
     "output_type": "stream",
     "text": [
      "0\n",
      "1\n",
      "2\n",
      "3\n",
      "4\n",
      "5\n",
      "6\n",
      "7\n",
      "8\n",
      "9\n",
      "10\n",
      "11\n",
      "12\n",
      "13\n",
      "14\n",
      "15\n",
      "16\n",
      "17\n",
      "18\n",
      "19\n",
      "20\n",
      "21\n",
      "22\n",
      "23\n",
      "24\n",
      "25\n",
      "26\n",
      "27\n",
      "28\n",
      "29\n",
      "30\n",
      "31\n",
      "32\n",
      "33\n",
      "34\n",
      "35\n",
      "36\n",
      "37\n",
      "38\n",
      "39\n"
     ]
    }
   ],
   "source": [
    "data_x=[]\n",
    "data_y=[]\n",
    "value_list=64\n",
    "for index_data in range(0,len(train_images_balance)):\n",
    "    print(index_data)\n",
    "    plot_list=arch.sintetiza_RR(train_images_balance[index_data],value_list=value_list,engine_value=100)\n",
    "    for d_x in plot_list:\n",
    "        # print(\"add\")\n",
    "        list_ciruclar=arch.get_circular(np.array(d_x))\n",
    "        for ar_cl in list_ciruclar:\n",
    "            fs = 4\n",
    "            # rr_manual=arch.removeoutlier(ar_cl)\n",
    "            x= np.linspace(0, len(ar_cl)-1, num=len(ar_cl), endpoint=True)\n",
    "            f = interpolate.interp1d(x, ar_cl, kind='cubic')\n",
    "\n",
    "            xnew = np.linspace(0, len(ar_cl)-1,num= len(ar_cl)*fs, endpoint=True)\n",
    "            rr_interpolated = f(xnew)\n",
    "\n",
    "            # _,transform_fourier_f,transform_fourier_magnitude = arch.frequency_domain(rr_interpolated,fs=4)\n",
    "\n",
    "            # dat=arch.normalize(np.abs(np.log(transform_fourier_magnitude)),0,1)\n",
    "            _,transform_fourier_f,transform_fourier_magnitude = arch.frequency_domain(rr_interpolated,fs=4)\n",
    "            psd_f = interpolate.interp1d(transform_fourier_f,transform_fourier_magnitude)\n",
    "            data_x.append(arch.normalize(psd_f(np.linspace(0.0,0.5,256)),0,1))\n",
    "            # data_x.append(ar_cl)\n",
    "            data_y.append(train_labels_balance[index_data])\n",
    "#             # print(\"add\")\n",
    "#             # plt.subplot(111)\n",
    "#             # plt.title(\"RR intervals\")\n",
    "#             # plt.plot(dat, color=\"k\", markerfacecolor=\"#A651D8\", markeredgewidth=0, marker=\"o\", markersize=8)\n",
    "#             # plt.xlabel(\"Time (s)\")\n",
    "#             # plt.ylabel(\"RR-interval (ms)\")\n",
    "#             # plt.title(\"Interpolated\")\n",
    "#             # # plt.gca().set_xlim(0, 256)\n",
    "#             # plt.show()\n",
    "#     #         break\n",
    "#     #     break\n",
    "#     # break\n",
    "train_images_balance = np.array(data_x)\n",
    "train_labels_balance = np.array(data_y)"
   ],
   "metadata": {
    "collapsed": false
   }
  },
  {
   "cell_type": "code",
   "execution_count": 101,
   "outputs": [
    {
     "name": "stdout",
     "output_type": "stream",
     "text": [
      "0\n",
      "1\n",
      "2\n",
      "3\n",
      "4\n",
      "5\n",
      "6\n",
      "7\n",
      "8\n",
      "9\n",
      "10\n",
      "11\n",
      "12\n",
      "13\n",
      "14\n",
      "15\n",
      "16\n",
      "17\n"
     ]
    }
   ],
   "source": [
    "data_x=[]\n",
    "data_y=[]\n",
    "value_list=64\n",
    "for index_data in range(0,len(teste_images_predic)):\n",
    "    print(index_data)\n",
    "    fs = 4\n",
    "    rr_manual=teste_images_predic[index_data]\n",
    "    x= np.linspace(0, len(rr_manual)-1, num=len(rr_manual), endpoint=True)\n",
    "    f = interpolate.interp1d(x, rr_manual, kind='cubic')\n",
    "    xnew = np.linspace(0, len(rr_manual)-1,num= len(rr_manual)*fs, endpoint=True)\n",
    "    rr_interpolated = f(xnew)\n",
    "    _,transform_fourier_f,transform_fourier_magnitude = arch.frequency_domain(rr_interpolated,fs=4)\n",
    "    psd_f = interpolate.interp1d(transform_fourier_f,transform_fourier_magnitude)\n",
    "    data_x.append(arch.normalize(psd_f(np.linspace(0.0,0.5,256)),0,1))\n",
    "    # data_x.append(arch.normalize(np.abs(np.log(transform_fourier_magnitude)),0,1))\n",
    "    data_y.append(test_labels_predic[index_data])\n",
    "teste_images_predic = np.array(data_x)\n",
    "test_labels_predic = np.array(data_y)"
   ],
   "metadata": {
    "collapsed": false
   }
  },
  {
   "cell_type": "code",
   "execution_count": 102,
   "outputs": [],
   "source": [
    "train_images, test_images, train_labels, test_labels = train_test_split(train_images_balance,train_labels_balance , shuffle=True, random_state=312, train_size=0.7)"
   ],
   "metadata": {
    "collapsed": false
   }
  },
  {
   "cell_type": "code",
   "execution_count": 136,
   "outputs": [],
   "source": [
    "train_images_conv1d =train_images.reshape(-1,16,16,1)\n",
    "test_images_conv1d =test_images.reshape(-1,16,16,1)\n",
    "teste_images_predic_conv1d=teste_images_predic.reshape(-1,16,16,1)\n"
   ],
   "metadata": {
    "collapsed": false
   }
  },
  {
   "cell_type": "code",
   "execution_count": 134,
   "outputs": [],
   "source": [
    "model = models.Sequential()\n",
    "\n",
    "model.add(layers.Conv2D(16, (3, 3), activation='relu', input_shape=(16, 16, 1)))\n",
    "model.add(layers.MaxPooling2D((2, 2)))\n",
    "model.add(layers.Conv2D(16, (3, 3), activation='relu'))\n",
    "model.add(layers.Dropout(0.2))\n",
    "model.add(layers.MaxPooling2D((2, 2)))\n",
    "model.add(layers.Flatten())\n",
    "model.add(layers.Dense(16, activation='relu'))\n",
    "model.add(layers.Dense(2,activation='softmax'))\n"
   ],
   "metadata": {
    "collapsed": false
   }
  },
  {
   "cell_type": "markdown",
   "source": [],
   "metadata": {
    "collapsed": false
   }
  },
  {
   "cell_type": "code",
   "execution_count": 128,
   "outputs": [],
   "source": [
    "model = models.Sequential()\n",
    "model.add(layers.Conv1D(filters=64, kernel_size=3, activation='relu', input_shape=(256,1)))\n",
    "model.add(layers.Dropout(0.2))\n",
    "model.add(layers.Conv1D(filters=64, kernel_size=3, activation='relu'))\n",
    "model.add(layers.Dropout(0.2))\n",
    "model.add(layers.Conv1D(filters=128, kernel_size=5, activation='relu'))\n",
    "model.add(layers.Dropout(0.2))\n",
    "model.add(layers.Conv1D(filters=128, kernel_size=5, activation='relu'))\n",
    "model.add(layers.Dropout(0.2))\n",
    "model.add(layers.Conv1D(filters=64, kernel_size=3, activation='relu'))\n",
    "model.add(layers.Dropout(0.2))\n",
    "model.add(layers.Conv1D(filters=64, kernel_size=3, activation='relu'))\n",
    "# model.add(layers.MaxPooling1D(pool_size=2))\n",
    "# model.add(layers.Conv1D(filters=64, kernel_size=5, activation='relu'))\n",
    "# model.add(layers.Dropout(0.2))\n",
    "# model.add(layers.Conv1D(filters=64, kernel_size=5, activation='relu'))\n",
    "# model.add(layers.Dropout(0.2))\n",
    "# model.add(layers.Conv1D(filters=64, kernel_size=5, activation='relu'))\n",
    "# model.add(layers.Dropout(0.2))\n",
    "# model.add(layers.Conv1D(filters=64, kernel_size=5, activation='relu'))\n",
    "# model.add(layers.Dropout(0.2))\n",
    "# model.add(layers.Conv1D(filters=64, kernel_size=5, activation='relu'))\n",
    "# model.add(layers.Dropout(0.2))\n",
    "# model.add(layers.Conv1D(filters=64, kernel_size=5, activation='relu'))\n",
    "# model.add(layers.Dropout(0.2))\n",
    "# model.add(layers.Conv1D(filters=64, kernel_size=5, activation='relu'))\n",
    "# model.add(layers.Dropout(0.2))\n",
    "# model.add(layers.Conv1D(filters=64, kernel_size=5, activation='relu'))\n",
    "# model.add(layers.Dropout(0.2))\n",
    "# model.add(layers.Conv1D(filters=64, kernel_size=3, activation='relu'))\n",
    "# model.add(layers.Conv1D(filters=64, kernel_size=3, activation='relu'))\n",
    "# model.add(layers.Dropout(0.2))\n",
    "#\n",
    "# model.add(layers.Conv1D(filters=16, kernel_size=3, activation='relu'))\n",
    "# model.add(layers.Conv1D(filters=16, kernel_size=3, activation='relu'))\n",
    "# # model.add(layers.MaxPooling1D(pool_size=2))\n",
    "# model.add(layers.Dropout(0.2))\n",
    "# model.add(layers.MaxPooling1D(pool_size=2))\n",
    "model.add(layers.Flatten())\n",
    "model.add(layers.Dense(100, activation='relu'))\n",
    "# model.add(layers.Dense(32, activation='relu'))\n",
    "model.add(layers.Dense(2, activation='softmax'))\n",
    "# model.compile(loss='categorical_crossentropy', optimizer='adam', metrics=['accuracy'])"
   ],
   "metadata": {
    "collapsed": false
   }
  },
  {
   "cell_type": "code",
   "execution_count": 137,
   "outputs": [
    {
     "name": "stdout",
     "output_type": "stream",
     "text": [
      "Epoch 1/10\n"
     ]
    },
    {
     "name": "stderr",
     "output_type": "stream",
     "text": [
      "/opt/anaconda/envs/RR/lib/python3.6/site-packages/keras/backend.py:4907: UserWarning: \"`sparse_categorical_crossentropy` received `from_logits=True`, but the `output` argument was produced by a sigmoid or softmax activation and thus does not represent logits. Was this intended?\"\n",
      "  '\"`sparse_categorical_crossentropy` received `from_logits=True`, but '\n"
     ]
    },
    {
     "name": "stdout",
     "output_type": "stream",
     "text": [
      "448/448 [==============================] - 6s 11ms/step - loss: 0.4759 - accuracy: 0.7800 - val_loss: 0.4335 - val_accuracy: 0.8019\n",
      "Epoch 2/10\n",
      "448/448 [==============================] - 4s 9ms/step - loss: 0.4042 - accuracy: 0.8211 - val_loss: 0.3667 - val_accuracy: 0.8394\n",
      "Epoch 3/10\n",
      "448/448 [==============================] - 4s 8ms/step - loss: 0.3347 - accuracy: 0.8485 - val_loss: 0.3300 - val_accuracy: 0.8685\n",
      "Epoch 4/10\n",
      "448/448 [==============================] - 3s 8ms/step - loss: 0.2785 - accuracy: 0.8759 - val_loss: 0.2417 - val_accuracy: 0.9053\n",
      "Epoch 5/10\n",
      "448/448 [==============================] - 5s 11ms/step - loss: 0.2354 - accuracy: 0.9004 - val_loss: 0.2068 - val_accuracy: 0.9235\n",
      "Epoch 6/10\n",
      "448/448 [==============================] - 3s 7ms/step - loss: 0.2092 - accuracy: 0.9144 - val_loss: 0.1919 - val_accuracy: 0.9303\n",
      "Epoch 7/10\n",
      "448/448 [==============================] - 4s 9ms/step - loss: 0.1875 - accuracy: 0.9239 - val_loss: 0.1638 - val_accuracy: 0.9451\n",
      "Epoch 8/10\n",
      "448/448 [==============================] - 6s 13ms/step - loss: 0.1708 - accuracy: 0.9314 - val_loss: 0.1517 - val_accuracy: 0.9479\n",
      "Epoch 9/10\n",
      "448/448 [==============================] - 5s 11ms/step - loss: 0.1544 - accuracy: 0.9409 - val_loss: 0.1352 - val_accuracy: 0.9600\n",
      "Epoch 10/10\n",
      "448/448 [==============================] - 4s 9ms/step - loss: 0.1399 - accuracy: 0.9466 - val_loss: 0.1187 - val_accuracy: 0.9642\n"
     ]
    }
   ],
   "source": [
    "# model.fit(train_images_conv1d, train_labels, epochs=50, batch_size=129, verbose=1)\n",
    "\n",
    "model.compile(optimizer='adam',\n",
    "              loss=tf.keras.losses.SparseCategoricalCrossentropy(\n",
    "    from_logits=True),  metrics=['accuracy'])\n",
    "#\n",
    "history = model.fit(train_images_conv1d, train_labels, epochs=10,\n",
    "                    validation_data=(test_images_conv1d, test_labels))\n"
   ],
   "metadata": {
    "collapsed": false
   }
  },
  {
   "cell_type": "code",
   "execution_count": 138,
   "outputs": [
    {
     "name": "stdout",
     "output_type": "stream",
     "text": [
      "[[8.03147827e-07 9.99999166e-01]\n",
      " [3.37485517e-07 9.99999642e-01]\n",
      " [9.98369515e-01 1.63052557e-03]\n",
      " [9.12704349e-01 8.72957036e-02]\n",
      " [9.99405742e-01 5.94225014e-04]\n",
      " [4.92214352e-01 5.07785678e-01]\n",
      " [8.40059221e-01 1.59940749e-01]\n",
      " [2.09627338e-09 1.00000000e+00]\n",
      " [9.99011517e-01 9.88448039e-04]\n",
      " [9.66128945e-01 3.38710845e-02]\n",
      " [5.62493384e-01 4.37506557e-01]\n",
      " [1.18966746e-04 9.99881029e-01]\n",
      " [1.25930733e-12 1.00000000e+00]\n",
      " [3.59790474e-02 9.64020967e-01]\n",
      " [6.09358788e-01 3.90641212e-01]\n",
      " [5.38486382e-03 9.94615138e-01]\n",
      " [1.06536038e-06 9.99998927e-01]\n",
      " [3.16421539e-01 6.83578491e-01]]\n",
      "[1 1 0 0 0 1 0 1 0 0 0 1 1 1 0 1 1 1]\n",
      "[1 1 0 1 0 0 1 1 0 0 1 1 0 0 0 0 1 0]\n",
      "              precision    recall  f1-score   support\n",
      "\n",
      "           0       0.62      0.50      0.56        10\n",
      "           1       0.50      0.62      0.56         8\n",
      "\n",
      "    accuracy                           0.56        18\n",
      "   macro avg       0.56      0.56      0.56        18\n",
      "weighted avg       0.57      0.56      0.56        18\n",
      "\n"
     ]
    }
   ],
   "source": [
    "y_pred = model.predict(teste_images_predic_conv1d)\n",
    "y_pred_max = np.argmax(y_pred, axis=1)\n",
    "print(y_pred)\n",
    "print(y_pred_max)\n",
    "print(test_labels_predic)\n",
    "print(classification_report(test_labels_predic, y_pred_max))\n"
   ],
   "metadata": {
    "collapsed": false
   }
  },
  {
   "cell_type": "code",
   "execution_count": 108,
   "outputs": [],
   "source": [
    "\n",
    "from sklearn import svm, datasets,tree\n",
    "from sklearn.model_selection import GridSearchCV\n",
    "# parameters = {'kernel':('linear', 'rbf'), 'C':[1, 10]}\n",
    "# parameters = {'criterion':['gini', 'entropy'],\n",
    "#               'splitter':['best', 'random'],\n",
    "#               'min_samples_split':[2,5,10],\n",
    "#               'min_samples_leaf':[1,5,10]}\n",
    "\n",
    "# svc = svm.SVC()\n",
    "# clf = tree.DecisionTreeClassifier()\n",
    "# clf = GridSearchCV(estimator=tree.DecisionTreeClassifier(), param_grid=parameters)\n",
    "# X = train_images\n",
    "# Y = train_labels\n",
    "# clf = clf.fit(X, Y)"
   ],
   "metadata": {
    "collapsed": false
   }
  },
  {
   "cell_type": "code",
   "execution_count": 109,
   "outputs": [],
   "source": [
    "# print(clf.predict(teste_images_predic))\n",
    "# print(test_labels_predic)\n",
    "\n"
   ],
   "metadata": {
    "collapsed": false
   }
  }
 ],
 "metadata": {
  "accelerator": "GPU",
  "colab": {
   "collapsed_sections": [],
   "name": "cnn.ipynb",
   "toc_visible": true
  },
  "kernelspec": {
   "display_name": "Python 3",
   "name": "python3"
  },
  "language_info": {
   "codemirror_mode": {
    "name": "ipython",
    "version": 3
   },
   "file_extension": ".py",
   "mimetype": "text/x-python",
   "name": "python",
   "nbconvert_exporter": "python",
   "pygments_lexer": "ipython3",
   "version": "3.7.5"
  }
 },
 "nbformat": 4,
 "nbformat_minor": 0
}
